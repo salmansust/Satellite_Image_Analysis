{
 "cells": [
  {
   "cell_type": "code",
   "execution_count": 1,
   "id": "31134c2f-40b1-4832-b357-204c6223bca3",
   "metadata": {},
   "outputs": [],
   "source": [
    "import ee\n",
    "import geemap"
   ]
  },
  {
   "cell_type": "code",
   "execution_count": 2,
   "id": "f53cdc9d-46a5-4f04-96da-bc9df21f261c",
   "metadata": {},
   "outputs": [
    {
     "data": {
      "text/html": [
       "<p>To authorize access needed by Earth Engine, open the following\n",
       "        URL in a web browser and follow the instructions:</p>\n",
       "        <p><a href=https://code.earthengine.google.com/client-auth?scopes=https%3A//www.googleapis.com/auth/earthengine%20https%3A//www.googleapis.com/auth/devstorage.full_control&request_id=yc4vcVz8XWc8y-RRby25vIHlMewcEWYXE9puw044Zew&tc=rUjaBsHB4psOTQfZc7rGzAJyAthxMGbDY49itW4e0fQ&cc=ebLd9ldZg1oCT5Rd71pqy_eSTcsOaH0FAWbeTyIGXIU>https://code.earthengine.google.com/client-auth?scopes=https%3A//www.googleapis.com/auth/earthengine%20https%3A//www.googleapis.com/auth/devstorage.full_control&request_id=yc4vcVz8XWc8y-RRby25vIHlMewcEWYXE9puw044Zew&tc=rUjaBsHB4psOTQfZc7rGzAJyAthxMGbDY49itW4e0fQ&cc=ebLd9ldZg1oCT5Rd71pqy_eSTcsOaH0FAWbeTyIGXIU</a></p>\n",
       "        <p>The authorization workflow will generate a code, which you should paste in the box below.</p>\n",
       "        "
      ],
      "text/plain": [
       "<IPython.core.display.HTML object>"
      ]
     },
     "metadata": {},
     "output_type": "display_data"
    },
    {
     "name": "stdin",
     "output_type": "stream",
     "text": [
      "Enter verification code:  4/1AWtgzh4oQxuXJnMZZ0v2i0GbP2ZvYxjlqNrSTewKOcHap2NnyFnlOadP6pQ\n"
     ]
    },
    {
     "name": "stdout",
     "output_type": "stream",
     "text": [
      "\n",
      "Successfully saved authorization token.\n"
     ]
    }
   ],
   "source": [
    "ee.Authenticate()"
   ]
  },
  {
   "cell_type": "code",
   "execution_count": 3,
   "id": "f7dd2e91-056d-4df3-b5e8-6f6506bf0178",
   "metadata": {},
   "outputs": [],
   "source": [
    "ee.Initialize()"
   ]
  },
  {
   "cell_type": "code",
   "execution_count": 7,
   "id": "55bf71a4-8ca7-47ca-a93d-a0c0b2643241",
   "metadata": {},
   "outputs": [],
   "source": [
    "import os\n",
    "import ipywidgets as widgets"
   ]
  },
  {
   "cell_type": "code",
   "execution_count": 67,
   "id": "b6eeb0f9-20bc-4a32-98fe-8560f563bbe6",
   "metadata": {},
   "outputs": [
    {
     "data": {
      "application/vnd.jupyter.widget-view+json": {
       "model_id": "79d9ab7024024b94a029f3399edc16ac",
       "version_major": 2,
       "version_minor": 0
      },
      "text/plain": [
       "Map(center=[36.282531, -80.058964], controls=(WidgetControl(options=['position', 'transparent_bg'], widget=HBo…"
      ]
     },
     "metadata": {},
     "output_type": "display_data"
    }
   ],
   "source": [
    "Map = geemap.Map(center=(36.282531, -80.058964), zoom=12)\n",
    "Map.add_basemap('HYBRID')\n",
    "Map"
   ]
  },
  {
   "cell_type": "code",
   "execution_count": 68,
   "id": "d620fa77-91bc-4774-9ec0-53d77cb58f31",
   "metadata": {},
   "outputs": [],
   "source": [
    "# Set the region of interest by simply drawing a polygon on the map\n",
    "roi = Map.user_roi\n",
    "if roi is None:\n",
    "    roi = ee.Geometry.BBox(-80.163116, 36.208269, -79.893608, 36.208269)\n",
    "\n",
    "Map.centerObject(roi)"
   ]
  },
  {
   "cell_type": "code",
   "execution_count": 69,
   "id": "a8e350a9-a9f3-40ac-8e4d-264476a7f8d8",
   "metadata": {},
   "outputs": [],
   "source": [
    "# ls8 = ee.ImageCollection('LANDSAT/LC08/C01/T1_SR') \\\n",
    "#                   .filterBounds(roi) \\\n",
    "#                   .filterDate('2020-07-01', '2020-07-31') \\\n",
    "#                   .select('B1','B2','B3','B4','B5','B6','B7') \\\n",
    "#                   .filter(ee.Filter.lt('CLOUD_COVER', 10))\n",
    "\n",
    "# Map.centerObject(ls8,9)\n",
    "s2a = ee.ImageCollection('COPERNICUS/S2_SR') \\\n",
    "                  .filterBounds(roi) \\\n",
    "                  .filterDate('2022-01-01', '2022-12-31') \\\n",
    "                  .select('B1','B2','B3','B4','B5','B6','B7','B8','B8A','B9','B11','B12') \\\n",
    "                  .filter(ee.Filter.lt('CLOUDY_PIXEL_PERCENTAGE', 10))\n",
    "\n",
    "Map.centerObject(s2a,9)"
   ]
  },
  {
   "cell_type": "code",
   "execution_count": 70,
   "id": "8d1e3527-67fd-4508-9bf5-737fe52e91f0",
   "metadata": {},
   "outputs": [],
   "source": [
    "#Compute the Normalized Difference Vegetation Index (NDVI).\n",
    "nir = image.select('B8');\n",
    "red = image.select('B4');\n",
    "ndvi = nir.subtract(red).divide(nir.add(red)).rename('NDVI');\n",
    "\n",
    "\n",
    "#  Display the result.\n",
    "Map.centerObject(image, 9);\n",
    "ndviParams = {'min': -1, 'max': 1, 'palette': ['blue', 'white', 'green']};\n",
    "Map.addLayer(ndvi, ndviParams, 'NDVI image');"
   ]
  },
  {
   "cell_type": "code",
   "execution_count": 71,
   "id": "33a7e808-f6ad-45df-88d4-291e1d29e888",
   "metadata": {},
   "outputs": [],
   "source": [
    "#Compute NDRE1.\n",
    "b6 = image.select('B6');\n",
    "b5 = image.select('B5');\n",
    "ndre1 = b6.subtract(b5).divide(b6.add(b5)).rename('NDRE1');\n",
    "\n",
    "\n",
    "#  Display the result.\n",
    "Map.centerObject(image, 9);\n",
    "visParams = {'min': -1, 'max': 1, 'palette': ['blue', 'white', 'green']};\n",
    "Map.addLayer(ndre1, visParams, 'NDRE1 image');"
   ]
  },
  {
   "cell_type": "code",
   "execution_count": 72,
   "id": "e50cc50e-3fd0-44ab-9605-8626bbeab340",
   "metadata": {},
   "outputs": [],
   "source": [
    "#Compute the NDRE2.\n",
    "b7 = image.select('B7');\n",
    "b5 = image.select('B5');\n",
    "ndre2 = b7.subtract(b5).divide(b7.add(b5)).rename('NDRE2');\n",
    "\n",
    "\n",
    "#  Display the result.\n",
    "Map.centerObject(image, 9);\n",
    "visParams = {'min': -1, 'max': 1, 'palette': ['blue', 'white', 'green']};\n",
    "Map.addLayer(ndre2, visParams, 'NDRE2 image');"
   ]
  },
  {
   "cell_type": "code",
   "execution_count": 74,
   "id": "8a84f72c-0596-4e86-b19a-c396c2f2aaf5",
   "metadata": {},
   "outputs": [],
   "source": [
    "#Compute MTCI\n",
    "b6 = image.select('B6');\n",
    "b5 = image.select('B5');\n",
    "b4 = image.select('B4');\n",
    "mtci= b6.subtract(b5).divide(b5.subtract(b4)).rename('MTC1');\n",
    "\n",
    "\n",
    "#  Display the result.\n",
    "Map.centerObject(image, 9);\n",
    "visParams = {'min': -1, 'max': 1, 'palette': ['blue', 'white', 'green']};\n",
    "Map.addLayer(mtci, visParams, 'MTCI image');"
   ]
  },
  {
   "cell_type": "code",
   "execution_count": 61,
   "id": "70525a6b-0248-41f3-8830-765c88130acc",
   "metadata": {},
   "outputs": [
    {
     "data": {
      "application/vnd.jupyter.widget-view+json": {
       "model_id": "60df6ce2e7d54509b479df9773e6ade2",
       "version_major": 2,
       "version_minor": 0
      },
      "text/plain": [
       "Map(bottom=51752.0, center=[36.04024968641641, -80.82416115650871], controls=(WidgetControl(options=['position…"
      ]
     },
     "metadata": {},
     "output_type": "display_data"
    }
   ],
   "source": [
    "Map"
   ]
  },
  {
   "cell_type": "code",
   "execution_count": null,
   "id": "026051f1-cac1-4030-81dc-cca75490d3e2",
   "metadata": {},
   "outputs": [],
   "source": []
  }
 ],
 "metadata": {
  "kernelspec": {
   "display_name": "Python 3 (ipykernel)",
   "language": "python",
   "name": "python3"
  },
  "language_info": {
   "codemirror_mode": {
    "name": "ipython",
    "version": 3
   },
   "file_extension": ".py",
   "mimetype": "text/x-python",
   "name": "python",
   "nbconvert_exporter": "python",
   "pygments_lexer": "ipython3",
   "version": "3.9.16"
  }
 },
 "nbformat": 4,
 "nbformat_minor": 5
}
